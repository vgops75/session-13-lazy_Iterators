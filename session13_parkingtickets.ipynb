{
 "cells": [
  {
   "cell_type": "code",
   "execution_count": 1,
   "id": "11047cc0-73c0-4dac-9de0-02cfbae73b38",
   "metadata": {},
   "outputs": [],
   "source": [
    "import csv\n",
    "from collections import namedtuple\n",
    "from collections import Counter"
   ]
  },
  {
   "cell_type": "code",
   "execution_count": 2,
   "id": "078c95e1-b494-42ad-85b6-f5288e872657",
   "metadata": {},
   "outputs": [
    {
     "data": {
      "text/plain": [
       "['Summons Number',\n",
       " 'Plate ID',\n",
       " 'Registration State',\n",
       " 'Plate Type',\n",
       " 'Issue Date',\n",
       " 'Violation Code',\n",
       " 'Vehicle Body Type',\n",
       " 'Vehicle Make',\n",
       " 'Violation Description']"
      ]
     },
     "execution_count": 2,
     "metadata": {},
     "output_type": "execute_result"
    }
   ],
   "source": [
    "# To look at the header and get the key words to form a namedtuple\n",
    "# Note that these field names are cut-short from actual field names appearing in the header\n",
    "\n",
    "open('nyc_parking_tickets_extract-1.csv', 'r').readline().strip().split(',')"
   ]
  },
  {
   "cell_type": "code",
   "execution_count": 3,
   "id": "faf6d970-08a7-48ad-ac20-91202cafc515",
   "metadata": {},
   "outputs": [],
   "source": [
    "# Make a namedtuple with the above keywords as fields in that order\n",
    "\n",
    "ParkingTickets = namedtuple('ParkingTickets', ('summons_no', 'plate_id', 'regn_state', 'plate_type', 'issue_date', 'violation_code', 'vehicle_type', 'vehicle_make', 'violation_descr'))"
   ]
  },
  {
   "cell_type": "code",
   "execution_count": 4,
   "id": "08e3d477-11f2-4852-91d1-4799a0ab2edd",
   "metadata": {},
   "outputs": [
    {
     "data": {
      "text/plain": [
       "['Summons Number,Plate ID,Registration State,Plate Type,Issue Date,Violation Code,Vehicle Body Type,Vehicle Make,Violation Description\\n',\n",
       " '4006478550,VAD7274,VA,PAS,10/5/2016,5,4D,BMW,BUS LANE VIOLATION\\n',\n",
       " '4006462396,22834JK,NY,COM,9/30/2016,5,VAN,CHEVR,BUS LANE VIOLATION\\n',\n",
       " '4007117810,21791MG,NY,COM,4/10/2017,5,VAN,DODGE,BUS LANE VIOLATION\\n',\n",
       " '4006265037,FZX9232,NY,PAS,8/23/2016,5,SUBN,FORD,BUS LANE VIOLATION\\n',\n",
       " '4006535600,N203399C,NY,OMT,10/19/2016,5,SUBN,FORD,BUS LANE VIOLATION\\n',\n",
       " '4007156700,92163MG,NY,COM,4/13/2017,5,VAN,FRUEH,BUS LANE VIOLATION\\n',\n",
       " '4006687989,MIQ600,SC,PAS,11/21/2016,5,VN,HONDA,BUS LANE VIOLATION\\n',\n",
       " '4006943052,2AE3984,MD,PAS,2/1/2017,5,SW,LINCO,BUS LANE VIOLATION\\n',\n",
       " '4007306795,HLG4926,NY,PAS,5/30/2017,5,SUBN,TOYOT,BUS LANE VIOLATION\\n']"
      ]
     },
     "execution_count": 4,
     "metadata": {},
     "output_type": "execute_result"
    }
   ],
   "source": [
    "# To print out the first 10 lines just for helping us code (useful when we try next() and check\n",
    "# if we are getting what we should get)\n",
    "\n",
    "open('nyc_parking_tickets_extract-1.csv', 'r').readlines()[:10]"
   ]
  },
  {
   "cell_type": "code",
   "execution_count": 5,
   "id": "557548e1-e14c-4a79-93c3-0c9c1ebc3b7c",
   "metadata": {},
   "outputs": [],
   "source": [
    "# Define a function to yield one row at a time (leaving out first line)\n",
    "\n",
    "def get_data():\n",
    "    with open('nyc_parking_tickets_extract-1.csv', 'r') as f:\n",
    "        cols = f.readline().strip().split(',') # removing first line as it is a header\n",
    "        reader = csv.reader(f, delimiter=',')\n",
    "        yield from reader"
   ]
  },
  {
   "cell_type": "code",
   "execution_count": 6,
   "id": "acb04748-0d16-479c-bce7-1dc0bec51421",
   "metadata": {},
   "outputs": [],
   "source": [
    "data_gen = get_data() # data generator"
   ]
  },
  {
   "cell_type": "markdown",
   "id": "4a719f6c-b213-4d4d-b993-1268f8f670b3",
   "metadata": {},
   "source": [
    "Goal 1: Create a lazy iterator returning namedtuple with fields from the data."
   ]
  },
  {
   "cell_type": "code",
   "execution_count": 7,
   "id": "7a07dffe-e275-496a-97db-56823a48a2b2",
   "metadata": {},
   "outputs": [],
   "source": [
    "# Goal 1: Lazy iterator\n",
    "def gen_tkts():\n",
    "    return ParkingTickets(*next(data_gen))"
   ]
  },
  {
   "cell_type": "code",
   "execution_count": 8,
   "id": "a6d0ff4c-0594-4a24-a796-f1c6f533c77b",
   "metadata": {},
   "outputs": [
    {
     "data": {
      "text/plain": [
       "ParkingTickets(summons_no='4006478550', plate_id='VAD7274', regn_state='VA', plate_type='PAS', issue_date='10/5/2016', violation_code='5', vehicle_type='4D', vehicle_make='BMW', violation_descr='BUS LANE VIOLATION')"
      ]
     },
     "execution_count": 8,
     "metadata": {},
     "output_type": "execute_result"
    }
   ],
   "source": [
    "gen_tkts() # This is a generator function going over the data row by row."
   ]
  },
  {
   "cell_type": "markdown",
   "id": "a032dd42-70ea-4556-adfe-e3664b98a5be",
   "metadata": {},
   "source": [
    "Goal 2: Calculate the number of violations by car make"
   ]
  },
  {
   "cell_type": "code",
   "execution_count": 9,
   "id": "a19fa7b9-272a-405f-ad68-4de877e84c0a",
   "metadata": {},
   "outputs": [],
   "source": [
    "# Making a function to get the count of carmakes from the data\n",
    "\n",
    "def carmake_data(func):\n",
    "    data = [ParkingTickets._make(item).vehicle_make for item in func]\n",
    "    return Counter(data)   "
   ]
  },
  {
   "cell_type": "code",
   "execution_count": 10,
   "id": "322a3ea9-ef87-4dab-ad28-1867fc445615",
   "metadata": {},
   "outputs": [],
   "source": [
    "# Just to ensure the data_gen is reset to begin from the top\n",
    "\n",
    "data_gen = get_data()"
   ]
  },
  {
   "cell_type": "code",
   "execution_count": 11,
   "id": "763eac35-9699-47c5-b798-6dc3f3ae54d4",
   "metadata": {},
   "outputs": [],
   "source": [
    "s = carmake_data(data_gen) # passing data generator to the carmake_data() counter function"
   ]
  },
  {
   "cell_type": "code",
   "execution_count": 12,
   "id": "4d3a01d8-1f3a-45d8-9320-f80638d9de99",
   "metadata": {},
   "outputs": [
    {
     "name": "stdout",
     "output_type": "stream",
     "text": [
      "Counter({'TOYOT': 112, 'HONDA': 106, 'FORD': 104, 'CHEVR': 76, 'NISSA': 70, 'DODGE': 45, 'FRUEH': 44, 'ME/BE': 38, 'GMC': 35, 'HYUND': 35, 'BMW': 34, 'LEXUS': 26, 'INTER': 25, 'JEEP': 22, 'NS/OT': 18, 'SUBAR': 18, 'INFIN': 13, 'LINCO': 12, 'CHRYS': 12, 'ACURA': 12, 'AUDI': 12, 'VOLVO': 12, 'MITSU': 11, 'ISUZU': 10, 'CADIL': 9, 'KIA': 8, 'VOLKS': 8, 'HIN': 6, 'KENWO': 5, '': 5, 'ROVER': 5, 'BUICK': 5, 'MAZDA': 5, 'MERCU': 4, 'JAGUA': 3, 'SMART': 3, 'PORSC': 3, 'WORKH': 2, 'SATUR': 2, 'SCION': 2, 'SAAB': 2, 'HINO': 2, 'FIR': 1, 'OLDSM': 1, 'PETER': 1, 'CITRO': 1, 'GEO': 1, 'YAMAH': 1, 'BSA': 1, 'MINI': 1, 'PONTI': 1, 'SPRI': 1, 'PLYMO': 1, 'UPS': 1, 'FIAT': 1, 'UD': 1, 'UTILI': 1, 'GMCQ': 1, 'STAR': 1, 'AM/T': 1, 'MI/F': 1})\n"
     ]
    }
   ],
   "source": [
    "# s is collection Counter object in the dictionary format\n",
    "print(s)"
   ]
  },
  {
   "cell_type": "code",
   "execution_count": 13,
   "id": "55a6045f-e3e6-4e2f-9995-8cb74e3fb862",
   "metadata": {},
   "outputs": [
    {
     "data": {
      "text/plain": [
       "[('TOYOT', 112), ('HONDA', 106), ('FORD', 104)]"
      ]
     },
     "execution_count": 13,
     "metadata": {},
     "output_type": "execute_result"
    }
   ],
   "source": [
    "s.most_common(3) # gives the top 3 carmakes found in the violations list."
   ]
  }
 ],
 "metadata": {
  "kernelspec": {
   "display_name": "Python 3",
   "language": "python",
   "name": "python3"
  },
  "language_info": {
   "codemirror_mode": {
    "name": "ipython",
    "version": 3
   },
   "file_extension": ".py",
   "mimetype": "text/x-python",
   "name": "python",
   "nbconvert_exporter": "python",
   "pygments_lexer": "ipython3",
   "version": "3.7.7"
  }
 },
 "nbformat": 4,
 "nbformat_minor": 5
}
